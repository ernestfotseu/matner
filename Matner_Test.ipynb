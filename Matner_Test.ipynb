{
  "nbformat": 4,
  "nbformat_minor": 0,
  "metadata": {
    "colab": {
      "name": "Matner-Test.ipynb",
      "provenance": [],
      "collapsed_sections": [],
      "toc_visible": true,
      "include_colab_link": true
    },
    "kernelspec": {
      "name": "python3",
      "display_name": "Python 3"
    }
  },
  "cells": [
    {
      "cell_type": "markdown",
      "metadata": {
        "id": "view-in-github",
        "colab_type": "text"
      },
      "source": [
        "<a href=\"https://colab.research.google.com/github/ernestfotseu/matner/blob/main/Matner_Test.ipynb\" target=\"_parent\"><img src=\"https://colab.research.google.com/assets/colab-badge.svg\" alt=\"Open In Colab\"/></a>"
      ]
    },
    {
      "cell_type": "markdown",
      "metadata": {
        "id": "2YexNiFslpIl"
      },
      "source": [
        "# **Test MatNer** : Material Name Entity Recognition\n",
        "Execute the steps in order 1,2 and 3"
      ]
    },
    {
      "cell_type": "markdown",
      "metadata": {
        "id": "PgUZhxRQl2wB"
      },
      "source": [
        "**1. Get MatNer in Github**\n",
        "\n",
        "---\n",
        "\n"
      ]
    },
    {
      "cell_type": "code",
      "metadata": {
        "id": "CMGoVoWslwVx"
      },
      "source": [
        "# Get matner from Github\n",
        "!git clone https://github.com/ernestfotseu/matner.git"
      ],
      "execution_count": null,
      "outputs": []
    },
    {
      "cell_type": "markdown",
      "metadata": {
        "id": "aNaqErGBmXI_"
      },
      "source": [
        "**2. Install requirements**\n",
        "\n",
        "---\n",
        "\n"
      ]
    },
    {
      "cell_type": "code",
      "metadata": {
        "id": "-qhKjIf9mcjc"
      },
      "source": [
        "# set up the configurations\n",
        "%cd /content/matner/MatEntityRecognition/\n",
        "!python setup.py install\n",
        "%cd /content/matner/MaterialParser/\n",
        "!python setup.py install\n",
        "%cd /content/matner/OperationsExtraction/\n",
        "!python setup.py install\n",
        "%cd /content/matner/ReactionCompleter/\n",
        "!python setup.py install\n",
        "!cde data download"
      ],
      "execution_count": null,
      "outputs": []
    },
    {
      "cell_type": "markdown",
      "metadata": {
        "id": "5253l-oMm_7P"
      },
      "source": [
        "**3. Add paragraph to recognized** (Simple recognition)\n",
        "\n",
        "---\n",
        "Add a paragraph to be recognized in a csv separator file **\";\"**. *Click on the run button and download your scv file.*\n",
        "\n",
        "```\n",
        "file structure:\n",
        "    ID1 ; Paragraph1\n",
        "    ID2 ; Paragraph2\n",
        "```\n",
        "\n",
        "\n"
      ]
    },
    {
      "cell_type": "code",
      "metadata": {
        "id": "bs-YXgqunEGe"
      },
      "source": [
        "# Import library\n",
        "import pandas as pd\n",
        "import io, os\n",
        "import glob\n",
        "import json\n",
        "import chardet\n",
        "# Set configuration\n",
        "%cd /content/matner/\n",
        "!mkdir datadictionnary\n",
        "%cd datadictionnary/\n",
        "!rm -r *.csv\n",
        "# Upload file\n",
        "from google.colab import files\n",
        "uploaded = files.upload()\n",
        "# retrieve the uploader file\n",
        "list_of_files = glob.glob('*') # * means all if need specific format then *.csv\n",
        "latest_file = max(list_of_files, key=os.path.getmtime)\n",
        "# Get encoding from file\n",
        "with open(latest_file, 'rb') as rawdata:\n",
        "    result = chardet.detect(rawdata.read(100000))\n",
        "# Read file\n",
        "df = pd.read_csv(io.BytesIO(uploaded[latest_file]),usecols=[1],sep=';',encoding=result['encoding'])\n",
        "# initializing bad_chars_list\n",
        "bad_chars = [';', ':', '!', \"*\",\"\\n\",'\"']\n",
        "paragraph = str(df)\n",
        "# remove bad_chars \n",
        "for i in bad_chars :\n",
        "    paragraph = paragraph.replace(i, '')\n",
        "# Get Material in paragraph text\n",
        "%cd /content/matner\n",
        "# initialisation\n",
        "# Paragraph example:\n",
        "# paragraph = \"Samples of (Zn1-xAlxO)mIn2O3 (m=integer; x = 0, 0.004, 0.008, 0.012, 0.016, and 0.02) were prepared from fine high-purity powders of ZnO, In2O3, and Al2O3 by a solid-state reaction. A mixture of the ZnO, In2O3, and Al2O3 powders and ethyl alcohol was milled for 4h using a planetary mill (Fritsch pulverisette 6) and a ZrO2 ball as a grinding media.Ba3 Cu2 Hg O10 Sr Tl2\"\n",
        "# Traitment and get result\n",
        "paragraph = paragraph.rstrip()\n",
        "with open('dataset/test_paras.json', 'w') as f:\n",
        "    f.write('[\"'+ paragraph +'\"]')\n",
        "!python runMERandPropieties.py"
      ],
      "execution_count": null,
      "outputs": []
    },
    {
      "cell_type": "markdown",
      "metadata": {
        "id": "9Fd36e9dLfUz"
      },
      "source": [
        "**3. Add paragraph to recognized** (Advanced recognition : result + runtime)\n",
        "---\n",
        "Add a paragraph to be recognized in a csv separator file **\";\"**. *Click on the run button and download your scv file.*\n",
        "\n",
        "```\n",
        "file structure:\n",
        "    ID1 ; Paragraph1\n",
        "    ID2 ; Paragraph2\n",
        "```"
      ]
    },
    {
      "cell_type": "code",
      "metadata": {
        "id": "Cluf_40vLv6Q",
        "outputId": "7f1c2a6a-f8df-40a7-c70d-f030e743850e",
        "colab": {
          "resources": {
            "http://localhost:8080/nbextensions/google.colab/files.js": {
              "data": "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",
              "ok": true,
              "headers": [
                [
                  "content-type",
                  "application/javascript"
                ]
              ],
              "status": 200,
              "status_text": ""
            }
          },
          "base_uri": "https://localhost:8080/",
          "height": 1000
        }
      },
      "source": [
        "# Import library\n",
        "import pandas as pd\n",
        "import io, os\n",
        "import glob\n",
        "import json\n",
        "import chardet\n",
        "# Set configuration\n",
        "%cd /content/matner/\n",
        "!mkdir datadictionnary\n",
        "%cd datadictionnary/\n",
        "!rm -r *.csv\n",
        "# Upload file\n",
        "from google.colab import files\n",
        "uploaded = files.upload()\n",
        "# retrieve the uploader file\n",
        "list_of_files = glob.glob('*') # * means all if need specific format then *.csv\n",
        "latest_file = max(list_of_files, key=os.path.getmtime)\n",
        "# Get encoding from file\n",
        "with open(latest_file, 'rb') as rawdata:\n",
        "    result = chardet.detect(rawdata.read(100000))\n",
        "# Read file\n",
        "df = pd.read_csv(io.BytesIO(uploaded[latest_file]),usecols=[1],sep=';',encoding=result['encoding'])\n",
        "# initializing bad_chars_list\n",
        "bad_chars = [';', ':', '!', \"*\",\"\\n\",'\"']\n",
        "paragraph = str(df)\n",
        "# remove bad_chars \n",
        "for i in bad_chars :\n",
        "    paragraph = paragraph.replace(i, '')\n",
        "# Get Material in paragraph text\n",
        "%cd /content/matner\n",
        "# initialisation\n",
        "# Paragraph example:\n",
        "# paragraph = \"Samples of (Zn1-xAlxO)mIn2O3 (m=integer; x = 0, 0.004, 0.008, 0.012, 0.016, and 0.02) were prepared from fine high-purity powders of ZnO, In2O3, and Al2O3 by a solid-state reaction. A mixture of the ZnO, In2O3, and Al2O3 powders and ethyl alcohol was milled for 4h using a planetary mill (Fritsch pulverisette 6) and a ZrO2 ball as a grinding media.Ba3 Cu2 Hg O10 Sr Tl2\"\n",
        "# Traitment and get result\n",
        "paragraph = paragraph.rstrip()\n",
        "with open('dataset/test_paras.json', 'w') as f:\n",
        "    f.write('[\"'+ paragraph +'\"]')\n",
        "!python runAdvancedMerPropieties.py"
      ],
      "execution_count": 18,
      "outputs": [
        {
          "output_type": "stream",
          "text": [
            "/content/matner\n",
            "mkdir: cannot create directory ‘datadictionnary’: File exists\n",
            "/content/matner/datadictionnary\n"
          ],
          "name": "stdout"
        },
        {
          "output_type": "display_data",
          "data": {
            "text/html": [
              "\n",
              "     <input type=\"file\" id=\"files-e65efce3-f9b4-496b-9f8a-8c294827ce1f\" name=\"files[]\" multiple disabled\n",
              "        style=\"border:none\" />\n",
              "     <output id=\"result-e65efce3-f9b4-496b-9f8a-8c294827ce1f\">\n",
              "      Upload widget is only available when the cell has been executed in the\n",
              "      current browser session. Please rerun this cell to enable.\n",
              "      </output>\n",
              "      <script src=\"/nbextensions/google.colab/files.js\"></script> "
            ],
            "text/plain": [
              "<IPython.core.display.HTML object>"
            ]
          },
          "metadata": {
            "tags": []
          }
        },
        {
          "output_type": "stream",
          "text": [
            "Saving testdata.csv to testdata.csv\n",
            "/content/matner\n",
            "Initializing MaterialParser version 6.1.2\n",
            "Pubchem lookup is on! Will search for unknown materials name in PubChem DB.\n",
            "INFO (theano.gof.compilelock): Waiting for existing lock by process '2371' (I am process '2372')\n",
            "INFO (theano.gof.compilelock): To manually release the lock, delete /root/.theano/compiledir_Linux-4.19.112+-x86_64-with-Ubuntu-18.04-bionic-x86_64-3.6.9-64/lock_dir\n",
            "INFO (theano.gof.compilelock): Waiting for existing lock by process '2371' (I am process '2373')\n",
            "INFO (theano.gof.compilelock): To manually release the lock, delete /root/.theano/compiledir_Linux-4.19.112+-x86_64-with-Ubuntu-18.04-bionic-x86_64-3.6.9-64/lock_dir\n",
            "INFO (theano.gof.compilelock): Waiting for existing lock by process '2371' (I am process '2377')\n",
            "INFO (theano.gof.compilelock): To manually release the lock, delete /root/.theano/compiledir_Linux-4.19.112+-x86_64-with-Ubuntu-18.04-bionic-x86_64-3.6.9-64/lock_dir\n",
            "INFO (theano.gof.compilelock): Waiting for existing lock by process '2371' (I am process '2376')\n",
            "INFO (theano.gof.compilelock): To manually release the lock, delete /root/.theano/compiledir_Linux-4.19.112+-x86_64-with-Ubuntu-18.04-bionic-x86_64-3.6.9-64/lock_dir\n",
            "INFO (theano.gof.compilelock): Waiting for existing lock by process '2371' (I am process '2378')\n",
            "INFO (theano.gof.compilelock): To manually release the lock, delete /root/.theano/compiledir_Linux-4.19.112+-x86_64-with-Ubuntu-18.04-bionic-x86_64-3.6.9-64/lock_dir\n",
            "INFO (theano.gof.compilelock): Waiting for existing lock by process '2371' (I am process '2375')\n",
            "INFO (theano.gof.compilelock): To manually release the lock, delete /root/.theano/compiledir_Linux-4.19.112+-x86_64-with-Ubuntu-18.04-bionic-x86_64-3.6.9-64/lock_dir\n",
            "INFO (theano.gof.compilelock): Waiting for existing lock by process '2371' (I am process '2374')\n",
            "INFO (theano.gof.compilelock): To manually release the lock, delete /root/.theano/compiledir_Linux-4.19.112+-x86_64-with-Ubuntu-18.04-bionic-x86_64-3.6.9-64/lock_dir\n",
            "INFO (theano.gof.compilelock): Waiting for existing lock by process '2378' (I am process '2375')\n",
            "INFO (theano.gof.compilelock): To manually release the lock, delete /root/.theano/compiledir_Linux-4.19.112+-x86_64-with-Ubuntu-18.04-bionic-x86_64-3.6.9-64/lock_dir\n",
            "INFO (theano.gof.compilelock): Waiting for existing lock by process '2378' (I am process '2374')\n",
            "INFO (theano.gof.compilelock): To manually release the lock, delete /root/.theano/compiledir_Linux-4.19.112+-x86_64-with-Ubuntu-18.04-bionic-x86_64-3.6.9-64/lock_dir\n",
            "INFO (theano.gof.compilelock): Waiting for existing lock by process '2373' (I am process '2375')\n",
            "INFO (theano.gof.compilelock): To manually release the lock, delete /root/.theano/compiledir_Linux-4.19.112+-x86_64-with-Ubuntu-18.04-bionic-x86_64-3.6.9-64/lock_dir\n",
            "INFO (theano.gof.compilelock): Waiting for existing lock by process '2373' (I am process '2374')\n",
            "INFO (theano.gof.compilelock): To manually release the lock, delete /root/.theano/compiledir_Linux-4.19.112+-x86_64-with-Ubuntu-18.04-bionic-x86_64-3.6.9-64/lock_dir\n",
            "INFO (theano.gof.compilelock): Waiting for existing lock by process '2373' (I am process '2372')\n",
            "INFO (theano.gof.compilelock): To manually release the lock, delete /root/.theano/compiledir_Linux-4.19.112+-x86_64-with-Ubuntu-18.04-bionic-x86_64-3.6.9-64/lock_dir\n",
            "INFO (theano.gof.compilelock): Waiting for existing lock by process '2373' (I am process '2376')\n",
            "INFO (theano.gof.compilelock): To manually release the lock, delete /root/.theano/compiledir_Linux-4.19.112+-x86_64-with-Ubuntu-18.04-bionic-x86_64-3.6.9-64/lock_dir\n",
            "INFO (theano.gof.compilelock): Waiting for existing lock by process '2373' (I am process '2377')\n",
            "INFO (theano.gof.compilelock): To manually release the lock, delete /root/.theano/compiledir_Linux-4.19.112+-x86_64-with-Ubuntu-18.04-bionic-x86_64-3.6.9-64/lock_dir\n",
            "INFO (theano.gof.compilelock): Waiting for existing lock by process '2373' (I am process '2378')\n",
            "INFO (theano.gof.compilelock): To manually release the lock, delete /root/.theano/compiledir_Linux-4.19.112+-x86_64-with-Ubuntu-18.04-bionic-x86_64-3.6.9-64/lock_dir\n",
            "INFO (theano.gof.compilelock): Waiting for existing lock by process '2375' (I am process '2374')\n",
            "INFO (theano.gof.compilelock): To manually release the lock, delete /root/.theano/compiledir_Linux-4.19.112+-x86_64-with-Ubuntu-18.04-bionic-x86_64-3.6.9-64/lock_dir\n",
            "INFO (theano.gof.compilelock): Waiting for existing lock by process '2372' (I am process '2376')\n",
            "INFO (theano.gof.compilelock): To manually release the lock, delete /root/.theano/compiledir_Linux-4.19.112+-x86_64-with-Ubuntu-18.04-bionic-x86_64-3.6.9-64/lock_dir\n",
            "INFO (theano.gof.compilelock): Waiting for existing lock by process '2372' (I am process '2377')\n",
            "INFO (theano.gof.compilelock): To manually release the lock, delete /root/.theano/compiledir_Linux-4.19.112+-x86_64-with-Ubuntu-18.04-bionic-x86_64-3.6.9-64/lock_dir\n",
            "INFO (theano.gof.compilelock): Waiting for existing lock by process '2372' (I am process '2378')\n",
            "INFO (theano.gof.compilelock): To manually release the lock, delete /root/.theano/compiledir_Linux-4.19.112+-x86_64-with-Ubuntu-18.04-bionic-x86_64-3.6.9-64/lock_dir\n",
            "INFO (theano.gof.compilelock): Waiting for existing lock by process '2375' (I am process '2376')\n",
            "INFO (theano.gof.compilelock): To manually release the lock, delete /root/.theano/compiledir_Linux-4.19.112+-x86_64-with-Ubuntu-18.04-bionic-x86_64-3.6.9-64/lock_dir\n",
            "INFO (theano.gof.compilelock): Waiting for existing lock by process '2375' (I am process '2377')\n",
            "INFO (theano.gof.compilelock): To manually release the lock, delete /root/.theano/compiledir_Linux-4.19.112+-x86_64-with-Ubuntu-18.04-bionic-x86_64-3.6.9-64/lock_dir\n",
            "INFO (theano.gof.compilelock): Waiting for existing lock by process '2375' (I am process '2378')\n",
            "INFO (theano.gof.compilelock): To manually release the lock, delete /root/.theano/compiledir_Linux-4.19.112+-x86_64-with-Ubuntu-18.04-bionic-x86_64-3.6.9-64/lock_dir\n",
            "INFO (theano.gof.compilelock): Waiting for existing lock by process '2374' (I am process '2376')\n",
            "INFO (theano.gof.compilelock): To manually release the lock, delete /root/.theano/compiledir_Linux-4.19.112+-x86_64-with-Ubuntu-18.04-bionic-x86_64-3.6.9-64/lock_dir\n",
            "INFO (theano.gof.compilelock): Waiting for existing lock by process '2374' (I am process '2377')\n",
            "INFO (theano.gof.compilelock): To manually release the lock, delete /root/.theano/compiledir_Linux-4.19.112+-x86_64-with-Ubuntu-18.04-bionic-x86_64-3.6.9-64/lock_dir\n",
            "INFO (theano.gof.compilelock): Waiting for existing lock by process '2374' (I am process '2378')\n",
            "INFO (theano.gof.compilelock): To manually release the lock, delete /root/.theano/compiledir_Linux-4.19.112+-x86_64-with-Ubuntu-18.04-bionic-x86_64-3.6.9-64/lock_dir\n",
            "INFO (theano.gof.compilelock): Waiting for existing lock by process '2374' (I am process '2372')\n",
            "INFO (theano.gof.compilelock): To manually release the lock, delete /root/.theano/compiledir_Linux-4.19.112+-x86_64-with-Ubuntu-18.04-bionic-x86_64-3.6.9-64/lock_dir\n",
            "INFO (theano.gof.compilelock): Waiting for existing lock by process '2376' (I am process '2377')\n",
            "INFO (theano.gof.compilelock): To manually release the lock, delete /root/.theano/compiledir_Linux-4.19.112+-x86_64-with-Ubuntu-18.04-bionic-x86_64-3.6.9-64/lock_dir\n",
            "INFO (theano.gof.compilelock): Waiting for existing lock by process '2376' (I am process '2378')\n",
            "INFO (theano.gof.compilelock): To manually release the lock, delete /root/.theano/compiledir_Linux-4.19.112+-x86_64-with-Ubuntu-18.04-bionic-x86_64-3.6.9-64/lock_dir\n",
            "INFO (theano.gof.compilelock): Waiting for existing lock by process '2376' (I am process '2372')\n",
            "INFO (theano.gof.compilelock): To manually release the lock, delete /root/.theano/compiledir_Linux-4.19.112+-x86_64-with-Ubuntu-18.04-bionic-x86_64-3.6.9-64/lock_dir\n",
            "INFO (theano.gof.compilelock): Waiting for existing lock by process '2374' (I am process '2377')\n",
            "INFO (theano.gof.compilelock): To manually release the lock, delete /root/.theano/compiledir_Linux-4.19.112+-x86_64-with-Ubuntu-18.04-bionic-x86_64-3.6.9-64/lock_dir\n",
            "INFO (theano.gof.compilelock): Waiting for existing lock by process '2374' (I am process '2378')\n",
            "INFO (theano.gof.compilelock): To manually release the lock, delete /root/.theano/compiledir_Linux-4.19.112+-x86_64-with-Ubuntu-18.04-bionic-x86_64-3.6.9-64/lock_dir\n",
            "INFO (theano.gof.compilelock): Waiting for existing lock by process '2372' (I am process '2376')\n",
            "INFO (theano.gof.compilelock): To manually release the lock, delete /root/.theano/compiledir_Linux-4.19.112+-x86_64-with-Ubuntu-18.04-bionic-x86_64-3.6.9-64/lock_dir\n",
            "INFO (theano.gof.compilelock): Waiting for existing lock by process '2372' (I am process '2377')\n",
            "INFO (theano.gof.compilelock): To manually release the lock, delete /root/.theano/compiledir_Linux-4.19.112+-x86_64-with-Ubuntu-18.04-bionic-x86_64-3.6.9-64/lock_dir\n",
            "INFO (theano.gof.compilelock): Waiting for existing lock by process '2372' (I am process '2378')\n",
            "INFO (theano.gof.compilelock): To manually release the lock, delete /root/.theano/compiledir_Linux-4.19.112+-x86_64-with-Ubuntu-18.04-bionic-x86_64-3.6.9-64/lock_dir\n",
            "INFO (theano.gof.compilelock): Waiting for existing lock by process '2377' (I am process '2378')\n",
            "INFO (theano.gof.compilelock): To manually release the lock, delete /root/.theano/compiledir_Linux-4.19.112+-x86_64-with-Ubuntu-18.04-bionic-x86_64-3.6.9-64/lock_dir\n",
            "INFO (theano.gof.compilelock): Waiting for existing lock by process '2377' (I am process '2378')\n",
            "INFO (theano.gof.compilelock): To manually release the lock, delete /root/.theano/compiledir_Linux-4.19.112+-x86_64-with-Ubuntu-18.04-bionic-x86_64-3.6.9-64/lock_dir\n",
            "Initializing MaterialParser version 6.1.2\n",
            "TIME USED : 121.24998736381531\n",
            "\n",
            " Json Results :\n",
            " \n",
            "\n",
            " Paragraph :    Samples of (Zn1-xAlxO)mIn2O3 (m=integer x = 0, 0.004, 0.008, 0.012, 0.016, and 0.02) were prepared from fine high-purity powders of ZnO, In2O3, and Al2O3 by a solid-state reaction. A mixture of the ZnO, In2O3, and Al2O3 powders and ethyl alcohol was milled for 4h using a planetary mill (Fritsch pulverisette 6) and a ZrO2 ball as a grinding media.Ba3 Cu2 Hg O10 Sr Tl20  Samples2 of (Zn1-xAlxO)mIn2O3 (m=integer x =...\n",
            "\n",
            " text : (Zn1-xAlxO)mIn2O3\n",
            "\n",
            " start : 13\n",
            "\n",
            " end : 30\n",
            "\n",
            " sentence :   Samples of (Zn1-xAlxO)mIn2O3 (m=integer x = 0, 0.004, 0.008, 0.012, 0.016, and 0.02) were prepared from fine high-purity powders of ZnO, In2O3, and Al2O3 by a solid-state reaction.\n",
            "\n",
            " Propieties :  {'material_string': '(Zn1-xAlxO)mIn2O3', 'material_name': '', 'material_formula': '(Zn1-xAlxO)mIn2O3', 'phase': '', 'additives': [], 'oxygen_deficiency': None, 'is_acronym': False, 'amounts_vars': {'m': [], 'x': []}, 'elements_vars': {}, 'composition': [{'formula': '(Zn1-xAlxO)mIn2O3', 'amount': '1', 'elements': {'Zn': 'm*(-x+1)', 'Al': 'm*x', 'O': 'm+3', 'In': '2'}, 'species': {'Zn': 'm*(-x+1)', 'Al': 'm*x', 'O': 'm+3', 'In': '2'}}]}\n",
            "\n",
            " text : ZnO\n",
            "\n",
            " start : 134\n",
            "\n",
            " end : 137\n",
            "\n",
            " sentence :   Samples of (Zn1-xAlxO)mIn2O3 (m=integer x = 0, 0.004, 0.008, 0.012, 0.016, and 0.02) were prepared from fine high-purity powders of ZnO, In2O3, and Al2O3 by a solid-state reaction.\n",
            "\n",
            " Propieties :  {'material_string': 'ZnO', 'material_name': '', 'material_formula': 'ZnO', 'phase': '', 'additives': [], 'oxygen_deficiency': None, 'is_acronym': False, 'amounts_vars': {}, 'elements_vars': {}, 'composition': [{'formula': 'ZnO', 'amount': '1', 'elements': {'Zn': '1', 'O': '1'}, 'species': {'Zn': '1', 'O': '1'}}]}\n",
            "\n",
            " text : In2O3\n",
            "\n",
            " start : 139\n",
            "\n",
            " end : 144\n",
            "\n",
            " sentence :   Samples of (Zn1-xAlxO)mIn2O3 (m=integer x = 0, 0.004, 0.008, 0.012, 0.016, and 0.02) were prepared from fine high-purity powders of ZnO, In2O3, and Al2O3 by a solid-state reaction.\n",
            "\n",
            " Propieties :  {'material_string': 'In2O3', 'material_name': '', 'material_formula': 'In2O3', 'phase': '', 'additives': [], 'oxygen_deficiency': None, 'is_acronym': False, 'amounts_vars': {}, 'elements_vars': {}, 'composition': [{'formula': 'In2O3', 'amount': '1', 'elements': {'In': '2', 'O': '3'}, 'species': {'In': '2', 'O': '3'}}]}\n",
            "\n",
            " text : Al2O3\n",
            "\n",
            " start : 150\n",
            "\n",
            " end : 155\n",
            "\n",
            " sentence :   Samples of (Zn1-xAlxO)mIn2O3 (m=integer x = 0, 0.004, 0.008, 0.012, 0.016, and 0.02) were prepared from fine high-purity powders of ZnO, In2O3, and Al2O3 by a solid-state reaction.\n",
            "\n",
            " Propieties :  {'material_string': 'Al2O3', 'material_name': '', 'material_formula': 'Al2O3', 'phase': '', 'additives': [], 'oxygen_deficiency': None, 'is_acronym': False, 'amounts_vars': {}, 'elements_vars': {}, 'composition': [{'formula': 'Al2O3', 'amount': '1', 'elements': {'Al': '2', 'O': '3'}, 'species': {'Al': '2', 'O': '3'}}]}\n",
            "\n",
            " text : ZnO\n",
            "\n",
            " start : 200\n",
            "\n",
            " end : 203\n",
            "\n",
            " sentence : A mixture of the ZnO, In2O3, and Al2O3 powders and ethyl alcohol was milled for 4h using a planetary mill (Fritsch pulverisette 6) and a ZrO2 ball as a grinding media.Ba3 Cu2 Hg O10 Sr Tl20  Samples2 of (Zn1-xAlxO)mIn2O3 (m=integer x =...\n",
            "\n",
            " Propieties :  {'material_string': 'ZnO', 'material_name': '', 'material_formula': 'ZnO', 'phase': '', 'additives': [], 'oxygen_deficiency': None, 'is_acronym': False, 'amounts_vars': {}, 'elements_vars': {}, 'composition': [{'formula': 'ZnO', 'amount': '1', 'elements': {'Zn': '1', 'O': '1'}, 'species': {'Zn': '1', 'O': '1'}}]}\n",
            "\n",
            " text : In2O3\n",
            "\n",
            " start : 205\n",
            "\n",
            " end : 210\n",
            "\n",
            " sentence : A mixture of the ZnO, In2O3, and Al2O3 powders and ethyl alcohol was milled for 4h using a planetary mill (Fritsch pulverisette 6) and a ZrO2 ball as a grinding media.Ba3 Cu2 Hg O10 Sr Tl20  Samples2 of (Zn1-xAlxO)mIn2O3 (m=integer x =...\n",
            "\n",
            " Propieties :  {'material_string': 'In2O3', 'material_name': '', 'material_formula': 'In2O3', 'phase': '', 'additives': [], 'oxygen_deficiency': None, 'is_acronym': False, 'amounts_vars': {}, 'elements_vars': {}, 'composition': [{'formula': 'In2O3', 'amount': '1', 'elements': {'In': '2', 'O': '3'}, 'species': {'In': '2', 'O': '3'}}]}\n",
            "\n",
            " text : Al2O3\n",
            "\n",
            " start : 216\n",
            "\n",
            " end : 221\n",
            "\n",
            " sentence : A mixture of the ZnO, In2O3, and Al2O3 powders and ethyl alcohol was milled for 4h using a planetary mill (Fritsch pulverisette 6) and a ZrO2 ball as a grinding media.Ba3 Cu2 Hg O10 Sr Tl20  Samples2 of (Zn1-xAlxO)mIn2O3 (m=integer x =...\n",
            "\n",
            " Propieties :  {'material_string': 'Al2O3', 'material_name': '', 'material_formula': 'Al2O3', 'phase': '', 'additives': [], 'oxygen_deficiency': None, 'is_acronym': False, 'amounts_vars': {}, 'elements_vars': {}, 'composition': [{'formula': 'Al2O3', 'amount': '1', 'elements': {'Al': '2', 'O': '3'}, 'species': {'Al': '2', 'O': '3'}}]}\n",
            "\n",
            " text : ethyl alcohol\n",
            "\n",
            " start : 234\n",
            "\n",
            " end : 247\n",
            "\n",
            " sentence : A mixture of the ZnO, In2O3, and Al2O3 powders and ethyl alcohol was milled for 4h using a planetary mill (Fritsch pulverisette 6) and a ZrO2 ball as a grinding media.Ba3 Cu2 Hg O10 Sr Tl20  Samples2 of (Zn1-xAlxO)mIn2O3 (m=integer x =...\n",
            "\n",
            " Propieties :  {'material_string': 'ethyl\\xa0alcohol', 'material_name': 'ethylalcohol', 'material_formula': 'C2H5OH', 'phase': '', 'additives': [], 'oxygen_deficiency': None, 'is_acronym': False, 'amounts_vars': {}, 'elements_vars': {}, 'composition': [{'formula': 'C2H5OH', 'amount': '1', 'elements': {'C': '2', 'H': '6', 'O': '1'}, 'species': {'C': '2', 'H': '5', 'OH': '1'}}]}\n",
            "\n",
            " text : ZrO2\n",
            "\n",
            " start : 320\n",
            "\n",
            " end : 324\n",
            "\n",
            " sentence : A mixture of the ZnO, In2O3, and Al2O3 powders and ethyl alcohol was milled for 4h using a planetary mill (Fritsch pulverisette 6) and a ZrO2 ball as a grinding media.Ba3 Cu2 Hg O10 Sr Tl20  Samples2 of (Zn1-xAlxO)mIn2O3 (m=integer x =...\n",
            "\n",
            " Propieties :  {'material_string': 'ZrO2', 'material_name': '', 'material_formula': 'ZrO2', 'phase': '', 'additives': [], 'oxygen_deficiency': None, 'is_acronym': False, 'amounts_vars': {}, 'elements_vars': {}, 'composition': [{'formula': 'ZrO2', 'amount': '1', 'elements': {'Zr': '1', 'O': '2'}, 'species': {'Zr': '1', 'O': '2'}}]}\n",
            "\n",
            " text : media.Ba3 Cu2\n",
            "\n",
            " start : 344\n",
            "\n",
            " end : 357\n",
            "\n",
            " sentence : A mixture of the ZnO, In2O3, and Al2O3 powders and ethyl alcohol was milled for 4h using a planetary mill (Fritsch pulverisette 6) and a ZrO2 ball as a grinding media.Ba3 Cu2 Hg O10 Sr Tl20  Samples2 of (Zn1-xAlxO)mIn2O3 (m=integer x =...\n",
            "\n",
            " Propieties :  {'material_string': 'media.Ba3\\xa0Cu2', 'material_name': '', 'material_formula': 'Ba3Cu2', 'phase': '', 'additives': [], 'oxygen_deficiency': None, 'is_acronym': False, 'amounts_vars': {}, 'elements_vars': {}, 'composition': [{'formula': 'Ba3Cu2', 'amount': '1', 'elements': {'Ba': '3', 'Cu': '2'}, 'species': {'Ba': '3', 'Cu': '2'}}]}\n",
            "\n",
            " text : O10\n",
            "\n",
            " start : 361\n",
            "\n",
            " end : 364\n",
            "\n",
            " sentence : A mixture of the ZnO, In2O3, and Al2O3 powders and ethyl alcohol was milled for 4h using a planetary mill (Fritsch pulverisette 6) and a ZrO2 ball as a grinding media.Ba3 Cu2 Hg O10 Sr Tl20  Samples2 of (Zn1-xAlxO)mIn2O3 (m=integer x =...\n",
            "\n",
            " Propieties :  {'material_string': 'O10', 'material_name': '', 'material_formula': 'O10O10', 'phase': '', 'additives': [], 'oxygen_deficiency': None, 'is_acronym': False, 'amounts_vars': {}, 'elements_vars': {}, 'composition': [{'formula': 'O10O10', 'amount': '1', 'elements': {'O': '10'}, 'species': {'O': '10'}}]}\n",
            "\n",
            " text : (Zn1-xAlxO)mIn2O3\n",
            "\n",
            " start : 386\n",
            "\n",
            " end : 403\n",
            "\n",
            " sentence : A mixture of the ZnO, In2O3, and Al2O3 powders and ethyl alcohol was milled for 4h using a planetary mill (Fritsch pulverisette 6) and a ZrO2 ball as a grinding media.Ba3 Cu2 Hg O10 Sr Tl20  Samples2 of (Zn1-xAlxO)mIn2O3 (m=integer x =...\n",
            "\n",
            " Propieties :  {'material_string': '(Zn1-xAlxO)mIn2O3', 'material_name': '', 'material_formula': '(Zn1-xAlxO)mIn2O3', 'phase': '', 'additives': [], 'oxygen_deficiency': None, 'is_acronym': False, 'amounts_vars': {'m': [], 'x': []}, 'elements_vars': {}, 'composition': [{'formula': '(Zn1-xAlxO)mIn2O3', 'amount': '1', 'elements': {'Zn': 'm*(-x+1)', 'Al': 'm*x', 'O': 'm+3', 'In': '2'}, 'species': {'Zn': 'm*(-x+1)', 'Al': 'm*x', 'O': 'm+3', 'In': '2'}}]}\n"
          ],
          "name": "stdout"
        }
      ]
    },
    {
      "cell_type": "code",
      "metadata": {
        "id": "D3h1UokLS34K"
      },
      "source": [
        "!rm -r /root/.theano/compiledir_Linux-4.19.112+-x86_64-with-Ubuntu-18.04-bionic-x86_64-3.6.9-64/lock_dir"
      ],
      "execution_count": null,
      "outputs": []
    }
  ]
}